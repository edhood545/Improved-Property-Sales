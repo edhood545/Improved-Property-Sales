{
 "cells": [
  {
   "cell_type": "markdown",
   "metadata": {},
   "source": [
    "# Import Modules "
   ]
  },
  {
   "cell_type": "code",
   "execution_count": 1,
   "metadata": {},
   "outputs": [],
   "source": [
    "import pandas as pd\n",
    "from datetime import datetime\n",
    "from matplotlib import colors\n",
    "from matplotlib import pyplot as plt\n",
    "import numpy as np\n",
    "import math\n",
    "import random"
   ]
  },
  {
   "cell_type": "markdown",
   "metadata": {},
   "source": [
    "# Read in CSVs, combine data, and create additional columns"
   ]
  },
  {
   "cell_type": "code",
   "execution_count": 167,
   "metadata": {},
   "outputs": [
    {
     "data": {
      "text/html": [
       "<div>\n",
       "<style scoped>\n",
       "    .dataframe tbody tr th:only-of-type {\n",
       "        vertical-align: middle;\n",
       "    }\n",
       "\n",
       "    .dataframe tbody tr th {\n",
       "        vertical-align: top;\n",
       "    }\n",
       "\n",
       "    .dataframe thead th {\n",
       "        text-align: right;\n",
       "    }\n",
       "</style>\n",
       "<table border=\"1\" class=\"dataframe\">\n",
       "  <thead>\n",
       "    <tr style=\"text-align: right;\">\n",
       "      <th></th>\n",
       "      <th>Key No.</th>\n",
       "      <th>Property Type</th>\n",
       "      <th>Acquired</th>\n",
       "      <th>Total Mgt. Expenses</th>\n",
       "      <th>Closed</th>\n",
       "      <th>Sale Price</th>\n",
       "      <th>Days Owned</th>\n",
       "      <th>Season</th>\n",
       "      <th>Year Closed</th>\n",
       "      <th>Residential</th>\n",
       "      <th>Winter</th>\n",
       "      <th>Summer</th>\n",
       "      <th>Spring</th>\n",
       "      <th>Fall</th>\n",
       "    </tr>\n",
       "  </thead>\n",
       "  <tbody>\n",
       "    <tr>\n",
       "      <th>0</th>\n",
       "      <td>340332000</td>\n",
       "      <td>Condominium</td>\n",
       "      <td>2010-07-26</td>\n",
       "      <td>12632.70</td>\n",
       "      <td>2014-12-19</td>\n",
       "      <td>4586</td>\n",
       "      <td>1607</td>\n",
       "      <td>Winter</td>\n",
       "      <td>2014</td>\n",
       "      <td>0</td>\n",
       "      <td>True</td>\n",
       "      <td>False</td>\n",
       "      <td>False</td>\n",
       "      <td>False</td>\n",
       "    </tr>\n",
       "    <tr>\n",
       "      <th>1</th>\n",
       "      <td>340543000</td>\n",
       "      <td>Condominium</td>\n",
       "      <td>2013-12-02</td>\n",
       "      <td>3833.69</td>\n",
       "      <td>2014-08-08</td>\n",
       "      <td>1000</td>\n",
       "      <td>249</td>\n",
       "      <td>Summer</td>\n",
       "      <td>2014</td>\n",
       "      <td>0</td>\n",
       "      <td>False</td>\n",
       "      <td>True</td>\n",
       "      <td>False</td>\n",
       "      <td>False</td>\n",
       "    </tr>\n",
       "    <tr>\n",
       "      <th>2</th>\n",
       "      <td>340622000</td>\n",
       "      <td>Condominium</td>\n",
       "      <td>2013-12-02</td>\n",
       "      <td>2436.94</td>\n",
       "      <td>2014-05-14</td>\n",
       "      <td>1120</td>\n",
       "      <td>163</td>\n",
       "      <td>Spring</td>\n",
       "      <td>2014</td>\n",
       "      <td>0</td>\n",
       "      <td>False</td>\n",
       "      <td>False</td>\n",
       "      <td>True</td>\n",
       "      <td>False</td>\n",
       "    </tr>\n",
       "    <tr>\n",
       "      <th>3</th>\n",
       "      <td>340706000</td>\n",
       "      <td>Condominium</td>\n",
       "      <td>2013-10-14</td>\n",
       "      <td>1658.99</td>\n",
       "      <td>2014-05-14</td>\n",
       "      <td>1120</td>\n",
       "      <td>212</td>\n",
       "      <td>Spring</td>\n",
       "      <td>2014</td>\n",
       "      <td>0</td>\n",
       "      <td>False</td>\n",
       "      <td>False</td>\n",
       "      <td>True</td>\n",
       "      <td>False</td>\n",
       "    </tr>\n",
       "    <tr>\n",
       "      <th>4</th>\n",
       "      <td>340820000</td>\n",
       "      <td>Condominium</td>\n",
       "      <td>2012-10-08</td>\n",
       "      <td>6869.52</td>\n",
       "      <td>2014-01-21</td>\n",
       "      <td>7129</td>\n",
       "      <td>470</td>\n",
       "      <td>Winter</td>\n",
       "      <td>2014</td>\n",
       "      <td>0</td>\n",
       "      <td>True</td>\n",
       "      <td>False</td>\n",
       "      <td>False</td>\n",
       "      <td>False</td>\n",
       "    </tr>\n",
       "    <tr>\n",
       "      <th>...</th>\n",
       "      <td>...</td>\n",
       "      <td>...</td>\n",
       "      <td>...</td>\n",
       "      <td>...</td>\n",
       "      <td>...</td>\n",
       "      <td>...</td>\n",
       "      <td>...</td>\n",
       "      <td>...</td>\n",
       "      <td>...</td>\n",
       "      <td>...</td>\n",
       "      <td>...</td>\n",
       "      <td>...</td>\n",
       "      <td>...</td>\n",
       "      <td>...</td>\n",
       "    </tr>\n",
       "    <tr>\n",
       "      <th>1892</th>\n",
       "      <td>5070892000</td>\n",
       "      <td>Duplex</td>\n",
       "      <td>2016-09-08</td>\n",
       "      <td>899.21</td>\n",
       "      <td>2017-05-09</td>\n",
       "      <td>72500</td>\n",
       "      <td>243</td>\n",
       "      <td>Spring</td>\n",
       "      <td>2017</td>\n",
       "      <td>1</td>\n",
       "      <td>False</td>\n",
       "      <td>False</td>\n",
       "      <td>True</td>\n",
       "      <td>False</td>\n",
       "    </tr>\n",
       "    <tr>\n",
       "      <th>1893</th>\n",
       "      <td>5380479000</td>\n",
       "      <td>Single Family</td>\n",
       "      <td>2016-07-11</td>\n",
       "      <td>937.74</td>\n",
       "      <td>2017-03-09</td>\n",
       "      <td>23300</td>\n",
       "      <td>241</td>\n",
       "      <td>Spring</td>\n",
       "      <td>2017</td>\n",
       "      <td>1</td>\n",
       "      <td>False</td>\n",
       "      <td>False</td>\n",
       "      <td>True</td>\n",
       "      <td>False</td>\n",
       "    </tr>\n",
       "    <tr>\n",
       "      <th>1894</th>\n",
       "      <td>5810622000</td>\n",
       "      <td>Restaurant</td>\n",
       "      <td>2016-01-04</td>\n",
       "      <td>9152.09</td>\n",
       "      <td>2017-06-30</td>\n",
       "      <td>38500</td>\n",
       "      <td>543</td>\n",
       "      <td>Summer</td>\n",
       "      <td>2017</td>\n",
       "      <td>0</td>\n",
       "      <td>False</td>\n",
       "      <td>True</td>\n",
       "      <td>False</td>\n",
       "      <td>False</td>\n",
       "    </tr>\n",
       "    <tr>\n",
       "      <th>1895</th>\n",
       "      <td>5821208000</td>\n",
       "      <td>Single Family</td>\n",
       "      <td>2016-07-11</td>\n",
       "      <td>7086.11</td>\n",
       "      <td>2017-03-09</td>\n",
       "      <td>85500</td>\n",
       "      <td>241</td>\n",
       "      <td>Spring</td>\n",
       "      <td>2017</td>\n",
       "      <td>1</td>\n",
       "      <td>False</td>\n",
       "      <td>False</td>\n",
       "      <td>True</td>\n",
       "      <td>False</td>\n",
       "    </tr>\n",
       "    <tr>\n",
       "      <th>1896</th>\n",
       "      <td>5940910000</td>\n",
       "      <td>Single Family</td>\n",
       "      <td>2016-12-12</td>\n",
       "      <td>3332.28</td>\n",
       "      <td>2017-09-20</td>\n",
       "      <td>58700</td>\n",
       "      <td>282</td>\n",
       "      <td>Fall</td>\n",
       "      <td>2017</td>\n",
       "      <td>1</td>\n",
       "      <td>False</td>\n",
       "      <td>False</td>\n",
       "      <td>False</td>\n",
       "      <td>True</td>\n",
       "    </tr>\n",
       "  </tbody>\n",
       "</table>\n",
       "<p>1897 rows × 14 columns</p>\n",
       "</div>"
      ],
      "text/plain": [
       "         Key No.  Property Type   Acquired  Total Mgt. Expenses     Closed  \\\n",
       "0      340332000    Condominium 2010-07-26             12632.70 2014-12-19   \n",
       "1      340543000    Condominium 2013-12-02              3833.69 2014-08-08   \n",
       "2      340622000    Condominium 2013-12-02              2436.94 2014-05-14   \n",
       "3      340706000    Condominium 2013-10-14              1658.99 2014-05-14   \n",
       "4      340820000    Condominium 2012-10-08              6869.52 2014-01-21   \n",
       "...          ...            ...        ...                  ...        ...   \n",
       "1892  5070892000         Duplex 2016-09-08               899.21 2017-05-09   \n",
       "1893  5380479000  Single Family 2016-07-11               937.74 2017-03-09   \n",
       "1894  5810622000     Restaurant 2016-01-04              9152.09 2017-06-30   \n",
       "1895  5821208000  Single Family 2016-07-11              7086.11 2017-03-09   \n",
       "1896  5940910000  Single Family 2016-12-12              3332.28 2017-09-20   \n",
       "\n",
       "      Sale Price  Days Owned  Season  Year Closed  Residential  Winter  \\\n",
       "0           4586        1607  Winter         2014            0    True   \n",
       "1           1000         249  Summer         2014            0   False   \n",
       "2           1120         163  Spring         2014            0   False   \n",
       "3           1120         212  Spring         2014            0   False   \n",
       "4           7129         470  Winter         2014            0    True   \n",
       "...          ...         ...     ...          ...          ...     ...   \n",
       "1892       72500         243  Spring         2017            1   False   \n",
       "1893       23300         241  Spring         2017            1   False   \n",
       "1894       38500         543  Summer         2017            0   False   \n",
       "1895       85500         241  Spring         2017            1   False   \n",
       "1896       58700         282    Fall         2017            1   False   \n",
       "\n",
       "      Summer  Spring   Fall  \n",
       "0      False   False  False  \n",
       "1       True   False  False  \n",
       "2      False    True  False  \n",
       "3      False    True  False  \n",
       "4      False   False  False  \n",
       "...      ...     ...    ...  \n",
       "1892   False    True  False  \n",
       "1893   False    True  False  \n",
       "1894    True   False  False  \n",
       "1895   False    True  False  \n",
       "1896   False   False   True  \n",
       "\n",
       "[1897 rows x 14 columns]"
      ]
     },
     "execution_count": 167,
     "metadata": {},
     "output_type": "execute_result"
    }
   ],
   "source": [
    "# Read in csvs\n",
    "with open('2014-improved-property-sales.csv') as f:\n",
    "    s2014 = pd.read_csv(f)\n",
    "    \n",
    "with open('2015-improved-property-sales.csv') as f:\n",
    "    s2015 = pd.read_csv(f)\n",
    "    \n",
    "with open('2016-improved-property-sales.csv') as f:\n",
    "    s2016 = pd.read_csv(f)\n",
    "    \n",
    "with open('2017-improved-property-sales.csv') as f:\n",
    "    s2017 = pd.read_csv(f)\n",
    "\n",
    "#standardize column names\n",
    "s2014.columns = s2015.columns\n",
    "s2016.columns = s2015.columns\n",
    "s2017.columns = s2015.columns\n",
    "\n",
    "# combine datasets into 1\n",
    "datasets = [s2014, s2015, s2016, s2017]\n",
    "data = pd.concat(datasets, ignore_index=True)\n",
    "data\n",
    "\n",
    "# create date difference column\n",
    "def stringToDate(series):\n",
    "    l = list()\n",
    "    for s in series:\n",
    "        ints = s.split('-')\n",
    "        for i in range(len(ints)):\n",
    "            ints[i] = int(ints[i])\n",
    "        l.append(datetime(ints[0], ints[1], ints[2]))\n",
    "    return l\n",
    "\n",
    "data['Acquired'] = stringToDate(data['Acquired'])\n",
    "data['Closed'] = stringToDate(data['Closed'])\n",
    "\n",
    "data['Days Owned'] = data['Closed'] - data['Acquired']\n",
    "\n",
    "def daysOwned(series):\n",
    "    l = list()\n",
    "    for s in series:\n",
    "        l.append(s.days)\n",
    "    return l\n",
    "\n",
    "data['Days Owned'] = daysOwned(data['Days Owned'])\n",
    "\n",
    "# create season column\n",
    "def season(series):\n",
    "    l = list()\n",
    "    for s in series:\n",
    "        m = s.month\n",
    "        if m in (12, 1, 2):\n",
    "            season = 'Winter'\n",
    "        elif m in (3, 4, 5):\n",
    "            season = 'Spring'\n",
    "        elif m in (6, 7, 8):\n",
    "            season = 'Summer'\n",
    "        elif m in (9, 10, 11):\n",
    "            season = 'Fall'\n",
    "        l.append(season)\n",
    "    return l\n",
    "\n",
    "data['Season'] = season(data['Closed'])\n",
    "\n",
    "# create year column\n",
    "def yearClosed(series):\n",
    "    l = list()\n",
    "    for s in series:\n",
    "        l.append(s.year)\n",
    "    return l\n",
    "\n",
    "data['Year Closed'] = yearClosed(data['Closed'])\n",
    "\n",
    "#quantify property type\n",
    "residential_l = ('Duplex', 'Duplex & Single Family', 'Duplex & Single Family - 2', 'Duplex - 2', 'Multi-Family', \n",
    "                 'Multi-Family & Duplex', 'Rooming House', 'Single Family', 'Single Family - 2', 'Single Family - 4')\n",
    "\n",
    "def residential(series):\n",
    "    l = list()\n",
    "    for s in series:\n",
    "        if s in residential_l:\n",
    "            l.append(1)\n",
    "        else:\n",
    "            l.append(0)\n",
    "    return l\n",
    "\n",
    "data['Residential'] = residential(data['Property Type'])\n",
    "\n",
    "# Seasons\n",
    "data['Winter'] = data['Season'] == 'Winter'\n",
    "data['Summer'] = data['Season'] == 'Summer'\n",
    "data['Spring'] = data['Season'] == 'Spring'\n",
    "data['Fall'] = data['Season'] == 'Fall'\n",
    "data"
   ]
  },
  {
   "cell_type": "markdown",
   "metadata": {},
   "source": [
    "# Graph Settings"
   ]
  },
  {
   "cell_type": "code",
   "execution_count": 6,
   "metadata": {},
   "outputs": [],
   "source": [
    "plt.rcParams.update({'font.size':12})"
   ]
  },
  {
   "cell_type": "markdown",
   "metadata": {},
   "source": [
    "# Graph 1"
   ]
  },
  {
   "cell_type": "code",
   "execution_count": 7,
   "metadata": {},
   "outputs": [
    {
     "data": {
      "text/plain": [
       "<matplotlib.legend.Legend at 0x7fdb65502a20>"
      ]
     },
     "execution_count": 7,
     "metadata": {},
     "output_type": "execute_result"
    },
    {
     "data": {
      "image/png": "[encoded data removed]",
      "text/plain": [
       "<Figure size 432x288 with 1 Axes>"
      ]
     },
     "metadata": {
      "needs_background": "light"
     },
     "output_type": "display_data"
    }
   ],
   "source": [
    "datag1 = data.copy()\n",
    "datag1 = datag1.drop([742])\n",
    "datag1 = datag1.drop([901])\n",
    "\n",
    "ax = plt.subplot()\n",
    "\n",
    "colors = {'Winter': 'cornflowerblue', 'Spring': 'springgreen', 'Summer':'red', 'Fall':'gold'}\n",
    "\n",
    "# Scatter data\n",
    "ax.scatter(x=datag1['Total Mgt. Expenses'], y=datag1['Sale Price'], color=datag1['Season'].map(colors), alpha=0.3)\n",
    "#ax.set_xlim(0, 2.002457e+06)\n",
    "ax.set_ylim(0, 160000)\n",
    "ax.set_xscale('log')\n",
    "\n",
    "# Plot logarithmic x = y line \n",
    "x = np.arange(0, 500000, 10)\n",
    "ax.plot(x, x, color='k', linestyle='dashed')\n",
    "\n",
    "# Format\n",
    "ax.set_title(\"Figure 1: Return on Property Investment\", pad=20)\n",
    "ax.set_xlabel('Management Expenses (USD)', fontsize=14)\n",
    "ax.set_ylabel('Sale Price (USD)', fontsize=14)\n",
    "ax.spines['right'].set_visible(False)\n",
    "ax.spines['top'].set_visible(False)\n",
    "\n",
    "# https://stackoverflow.com/questions/31303912/matplotlib-pyplot-scatterplot-legend-from-color-dictionary\n",
    "markers = [plt.Line2D([0,0],[0,0],color=color, marker='o', linestyle='') for color in colors.values()]\n",
    "plt.legend(markers, colors.keys(), numpoints=1, loc='upper left')"
   ]
  },
  {
   "cell_type": "markdown",
   "metadata": {},
   "source": [
    "# Graph 2"
   ]
  },
  {
   "cell_type": "code",
   "execution_count": 77,
   "metadata": {},
   "outputs": [],
   "source": [
    "from sklearn.decomposition import PCA\n",
    "from sklearn.pipeline import Pipeline\n",
    "from sklearn.preprocessing import StandardScaler"
   ]
  },
  {
   "cell_type": "code",
   "execution_count": 46,
   "metadata": {},
   "outputs": [],
   "source": [
    "data1 = data.copy().iloc[:1800]"
   ]
  },
  {
   "cell_type": "code",
   "execution_count": 87,
   "metadata": {},
   "outputs": [
    {
     "data": {
      "text/plain": [
       "array([0.25920011, 0.25077973, 0.24885338, 0.24116678])"
      ]
     },
     "execution_count": 87,
     "metadata": {},
     "output_type": "execute_result"
    }
   ],
   "source": [
    "pipe = Pipeline([\n",
    "    ('scale', StandardScaler()),\n",
    "    ('pca', PCA(4)),\n",
    "])\n",
    "\n",
    "pca1 = PCA(4)\n",
    "pipe.fit(data1[['Year Closed', 'Sale Price', 'Days Owned', 'Total Mgt. Expenses']])\n",
    "pipe.named_steps['pca'].explained_variance_ratio_"
   ]
  },
  {
   "cell_type": "code",
   "execution_count": 109,
   "metadata": {},
   "outputs": [
    {
     "data": {
      "text/plain": [
       "{1: 1.0,\n",
       " 2: 1.9472571763143382e-14,\n",
       " 3: 9.03836620243935e-18,\n",
       " 4: 1.9723202713358617e-23}"
      ]
     },
     "execution_count": 109,
     "metadata": {},
     "output_type": "execute_result"
    }
   ],
   "source": [
    "pca1 = PCA(4)\n",
    "pca1.fit(data1[['Year Closed', 'Sale Price', 'Days Owned', 'Total Mgt. Expenses']])\n",
    "d = dict()\n",
    "for i in range(len(pca1.explained_variance_ratio_)):\n",
    "    d[i+1] = pca1.explained_variance_ratio_[i]\n",
    "\n",
    "d[1] = d[1] + d[2] + d[3] + d[4]\n",
    "d[2] = d[2] + d[3] + d[4]\n",
    "d[3] = d[3] + d[4]\n",
    "d"
   ]
  },
  {
   "cell_type": "code",
   "execution_count": 108,
   "metadata": {},
   "outputs": [
    {
     "data": {
      "text/plain": [
       "{1: 1.0, 2: 0.740799889686746, 3: 0.490020159672311, 4: 0.2411667798330766}"
      ]
     },
     "execution_count": 108,
     "metadata": {},
     "output_type": "execute_result"
    }
   ],
   "source": [
    "evr = pipe.named_steps['pca'].explained_variance_ratio_\n",
    "d2 = dict()\n",
    "for i in range(len(evr)):\n",
    "    d2[i+1] = evr[i]\n",
    "    \n",
    "d2[1] = d2[1] + d2[2] + d2[3] + d2[4]\n",
    "d2[2] = d2[2] + d2[3] + d2[4]\n",
    "d2[3] = d2[3] + d2[4]\n",
    "d2"
   ]
  },
  {
   "cell_type": "code",
   "execution_count": 111,
   "metadata": {},
   "outputs": [
    {
     "data": {
      "text/plain": [
       "<matplotlib.legend.Legend at 0x7fdb53dbaba8>"
      ]
     },
     "execution_count": 111,
     "metadata": {},
     "output_type": "execute_result"
    },
    {
     "data": {
      "image/png": "[encoded data removed]",
      "text/plain": [
       "<Figure size 432x288 with 1 Axes>"
      ]
     },
     "metadata": {
      "needs_background": "light"
     },
     "output_type": "display_data"
    }
   ],
   "source": [
    "ax = plt.subplot()\n",
    "\n",
    "# Scatter data\n",
    "ax.plot(list(d.keys()), sorted(list(d.values()),reverse=False), color='cornflowerblue')\n",
    "ax.plot(list(d2.keys()), sorted(list(d2.values()),reverse=False), color='red')\n",
    "\n",
    "# Format\n",
    "ax.set_title(\"Figure 2: Property Principal Components \", pad=20)\n",
    "ax.set_xlabel('Number of Components', fontsize=14)\n",
    "ax.set_ylabel('Cumulative Explained Variance', fontsize=14)\n",
    "ax.set_xticks([1,2,3,4])\n",
    "ax.spines['right'].set_visible(False)\n",
    "ax.spines['top'].set_visible(False)\n",
    "\n",
    "colors = {'StandardScaler + PCA Pipeline': 'red', 'PCA': 'cornflowerblue'}\n",
    "markers = [plt.Line2D([0,0],[0,0],color=color, marker='o', linestyle='') for color in colors.values()]\n",
    "plt.legend(markers, colors.keys(), numpoints=1, loc='upper left', frameon=False)"
   ]
  },
  {
   "cell_type": "markdown",
   "metadata": {},
   "source": [
    "# Graph 3"
   ]
  },
  {
   "cell_type": "code",
   "execution_count": 198,
   "metadata": {},
   "outputs": [
    {
     "data": {
      "text/html": [
       "<div>\n",
       "<style scoped>\n",
       "    .dataframe tbody tr th:only-of-type {\n",
       "        vertical-align: middle;\n",
       "    }\n",
       "\n",
       "    .dataframe tbody tr th {\n",
       "        vertical-align: top;\n",
       "    }\n",
       "\n",
       "    .dataframe thead th {\n",
       "        text-align: right;\n",
       "    }\n",
       "</style>\n",
       "<table border=\"1\" class=\"dataframe\">\n",
       "  <thead>\n",
       "    <tr style=\"text-align: right;\">\n",
       "      <th></th>\n",
       "      <th>Key No.</th>\n",
       "      <th>Property Type</th>\n",
       "      <th>Acquired</th>\n",
       "      <th>Total Mgt. Expenses</th>\n",
       "      <th>Closed</th>\n",
       "      <th>Sale Price</th>\n",
       "      <th>Days Owned</th>\n",
       "      <th>Season</th>\n",
       "      <th>Year Closed</th>\n",
       "      <th>Residential</th>\n",
       "      <th>Winter</th>\n",
       "      <th>Summer</th>\n",
       "      <th>Spring</th>\n",
       "      <th>Fall</th>\n",
       "    </tr>\n",
       "  </thead>\n",
       "  <tbody>\n",
       "    <tr>\n",
       "      <th>0</th>\n",
       "      <td>340332000</td>\n",
       "      <td>Condominium</td>\n",
       "      <td>2010-07-26</td>\n",
       "      <td>12632.70</td>\n",
       "      <td>2014-12-19</td>\n",
       "      <td>4586</td>\n",
       "      <td>1607</td>\n",
       "      <td>Winter</td>\n",
       "      <td>2014</td>\n",
       "      <td>0</td>\n",
       "      <td>True</td>\n",
       "      <td>False</td>\n",
       "      <td>False</td>\n",
       "      <td>False</td>\n",
       "    </tr>\n",
       "    <tr>\n",
       "      <th>1</th>\n",
       "      <td>340543000</td>\n",
       "      <td>Condominium</td>\n",
       "      <td>2013-12-02</td>\n",
       "      <td>3833.69</td>\n",
       "      <td>2014-08-08</td>\n",
       "      <td>1000</td>\n",
       "      <td>249</td>\n",
       "      <td>Summer</td>\n",
       "      <td>2014</td>\n",
       "      <td>0</td>\n",
       "      <td>False</td>\n",
       "      <td>True</td>\n",
       "      <td>False</td>\n",
       "      <td>False</td>\n",
       "    </tr>\n",
       "    <tr>\n",
       "      <th>2</th>\n",
       "      <td>340622000</td>\n",
       "      <td>Condominium</td>\n",
       "      <td>2013-12-02</td>\n",
       "      <td>2436.94</td>\n",
       "      <td>2014-05-14</td>\n",
       "      <td>1120</td>\n",
       "      <td>163</td>\n",
       "      <td>Spring</td>\n",
       "      <td>2014</td>\n",
       "      <td>0</td>\n",
       "      <td>False</td>\n",
       "      <td>False</td>\n",
       "      <td>True</td>\n",
       "      <td>False</td>\n",
       "    </tr>\n",
       "    <tr>\n",
       "      <th>3</th>\n",
       "      <td>340706000</td>\n",
       "      <td>Condominium</td>\n",
       "      <td>2013-10-14</td>\n",
       "      <td>1658.99</td>\n",
       "      <td>2014-05-14</td>\n",
       "      <td>1120</td>\n",
       "      <td>212</td>\n",
       "      <td>Spring</td>\n",
       "      <td>2014</td>\n",
       "      <td>0</td>\n",
       "      <td>False</td>\n",
       "      <td>False</td>\n",
       "      <td>True</td>\n",
       "      <td>False</td>\n",
       "    </tr>\n",
       "    <tr>\n",
       "      <th>4</th>\n",
       "      <td>340820000</td>\n",
       "      <td>Condominium</td>\n",
       "      <td>2012-10-08</td>\n",
       "      <td>6869.52</td>\n",
       "      <td>2014-01-21</td>\n",
       "      <td>7129</td>\n",
       "      <td>470</td>\n",
       "      <td>Winter</td>\n",
       "      <td>2014</td>\n",
       "      <td>0</td>\n",
       "      <td>True</td>\n",
       "      <td>False</td>\n",
       "      <td>False</td>\n",
       "      <td>False</td>\n",
       "    </tr>\n",
       "    <tr>\n",
       "      <th>...</th>\n",
       "      <td>...</td>\n",
       "      <td>...</td>\n",
       "      <td>...</td>\n",
       "      <td>...</td>\n",
       "      <td>...</td>\n",
       "      <td>...</td>\n",
       "      <td>...</td>\n",
       "      <td>...</td>\n",
       "      <td>...</td>\n",
       "      <td>...</td>\n",
       "      <td>...</td>\n",
       "      <td>...</td>\n",
       "      <td>...</td>\n",
       "      <td>...</td>\n",
       "    </tr>\n",
       "    <tr>\n",
       "      <th>1892</th>\n",
       "      <td>5070892000</td>\n",
       "      <td>Duplex</td>\n",
       "      <td>2016-09-08</td>\n",
       "      <td>899.21</td>\n",
       "      <td>2017-05-09</td>\n",
       "      <td>72500</td>\n",
       "      <td>243</td>\n",
       "      <td>Spring</td>\n",
       "      <td>2017</td>\n",
       "      <td>1</td>\n",
       "      <td>False</td>\n",
       "      <td>False</td>\n",
       "      <td>True</td>\n",
       "      <td>False</td>\n",
       "    </tr>\n",
       "    <tr>\n",
       "      <th>1893</th>\n",
       "      <td>5380479000</td>\n",
       "      <td>Single Family</td>\n",
       "      <td>2016-07-11</td>\n",
       "      <td>937.74</td>\n",
       "      <td>2017-03-09</td>\n",
       "      <td>23300</td>\n",
       "      <td>241</td>\n",
       "      <td>Spring</td>\n",
       "      <td>2017</td>\n",
       "      <td>1</td>\n",
       "      <td>False</td>\n",
       "      <td>False</td>\n",
       "      <td>True</td>\n",
       "      <td>False</td>\n",
       "    </tr>\n",
       "    <tr>\n",
       "      <th>1894</th>\n",
       "      <td>5810622000</td>\n",
       "      <td>Restaurant</td>\n",
       "      <td>2016-01-04</td>\n",
       "      <td>9152.09</td>\n",
       "      <td>2017-06-30</td>\n",
       "      <td>38500</td>\n",
       "      <td>543</td>\n",
       "      <td>Summer</td>\n",
       "      <td>2017</td>\n",
       "      <td>0</td>\n",
       "      <td>False</td>\n",
       "      <td>True</td>\n",
       "      <td>False</td>\n",
       "      <td>False</td>\n",
       "    </tr>\n",
       "    <tr>\n",
       "      <th>1895</th>\n",
       "      <td>5821208000</td>\n",
       "      <td>Single Family</td>\n",
       "      <td>2016-07-11</td>\n",
       "      <td>7086.11</td>\n",
       "      <td>2017-03-09</td>\n",
       "      <td>85500</td>\n",
       "      <td>241</td>\n",
       "      <td>Spring</td>\n",
       "      <td>2017</td>\n",
       "      <td>1</td>\n",
       "      <td>False</td>\n",
       "      <td>False</td>\n",
       "      <td>True</td>\n",
       "      <td>False</td>\n",
       "    </tr>\n",
       "    <tr>\n",
       "      <th>1896</th>\n",
       "      <td>5940910000</td>\n",
       "      <td>Single Family</td>\n",
       "      <td>2016-12-12</td>\n",
       "      <td>3332.28</td>\n",
       "      <td>2017-09-20</td>\n",
       "      <td>58700</td>\n",
       "      <td>282</td>\n",
       "      <td>Fall</td>\n",
       "      <td>2017</td>\n",
       "      <td>1</td>\n",
       "      <td>False</td>\n",
       "      <td>False</td>\n",
       "      <td>False</td>\n",
       "      <td>True</td>\n",
       "    </tr>\n",
       "  </tbody>\n",
       "</table>\n",
       "<p>1895 rows × 14 columns</p>\n",
       "</div>"
      ],
      "text/plain": [
       "         Key No.  Property Type   Acquired  Total Mgt. Expenses     Closed  \\\n",
       "0      340332000    Condominium 2010-07-26             12632.70 2014-12-19   \n",
       "1      340543000    Condominium 2013-12-02              3833.69 2014-08-08   \n",
       "2      340622000    Condominium 2013-12-02              2436.94 2014-05-14   \n",
       "3      340706000    Condominium 2013-10-14              1658.99 2014-05-14   \n",
       "4      340820000    Condominium 2012-10-08              6869.52 2014-01-21   \n",
       "...          ...            ...        ...                  ...        ...   \n",
       "1892  5070892000         Duplex 2016-09-08               899.21 2017-05-09   \n",
       "1893  5380479000  Single Family 2016-07-11               937.74 2017-03-09   \n",
       "1894  5810622000     Restaurant 2016-01-04              9152.09 2017-06-30   \n",
       "1895  5821208000  Single Family 2016-07-11              7086.11 2017-03-09   \n",
       "1896  5940910000  Single Family 2016-12-12              3332.28 2017-09-20   \n",
       "\n",
       "      Sale Price  Days Owned  Season  Year Closed  Residential  Winter  \\\n",
       "0           4586        1607  Winter         2014            0    True   \n",
       "1           1000         249  Summer         2014            0   False   \n",
       "2           1120         163  Spring         2014            0   False   \n",
       "3           1120         212  Spring         2014            0   False   \n",
       "4           7129         470  Winter         2014            0    True   \n",
       "...          ...         ...     ...          ...          ...     ...   \n",
       "1892       72500         243  Spring         2017            1   False   \n",
       "1893       23300         241  Spring         2017            1   False   \n",
       "1894       38500         543  Summer         2017            0   False   \n",
       "1895       85500         241  Spring         2017            1   False   \n",
       "1896       58700         282    Fall         2017            1   False   \n",
       "\n",
       "      Summer  Spring   Fall  \n",
       "0      False   False  False  \n",
       "1       True   False  False  \n",
       "2      False    True  False  \n",
       "3      False    True  False  \n",
       "4      False   False  False  \n",
       "...      ...     ...    ...  \n",
       "1892   False    True  False  \n",
       "1893   False    True  False  \n",
       "1894    True   False  False  \n",
       "1895   False    True  False  \n",
       "1896   False   False   True  \n",
       "\n",
       "[1895 rows x 14 columns]"
      ]
     },
     "execution_count": 198,
     "metadata": {},
     "output_type": "execute_result"
    }
   ],
   "source": [
    "data3 = data.copy()\n",
    "data3 = data3.dropna(how='any')\n",
    "data3"
   ]
  },
  {
   "cell_type": "code",
   "execution_count": 112,
   "metadata": {},
   "outputs": [],
   "source": [
    "from sklearn.linear_model import LinearRegression"
   ]
  },
  {
   "cell_type": "code",
   "execution_count": 113,
   "metadata": {},
   "outputs": [
    {
     "data": {
      "text/plain": [
       "LinearRegression()"
      ]
     },
     "execution_count": 113,
     "metadata": {},
     "output_type": "execute_result"
    }
   ],
   "source": [
    "lr = LinearRegression()\n",
    "lr"
   ]
  },
  {
   "cell_type": "code",
   "execution_count": 147,
   "metadata": {},
   "outputs": [
    {
     "data": {
      "text/plain": [
       "(-6.861545293748017e-10, 9486.558604118312)"
      ]
     },
     "execution_count": 147,
     "metadata": {},
     "output_type": "execute_result"
    }
   ],
   "source": [
    "lr.fit(data3[['Total Mgt. Expenses']], data3['Sale Price'])\n",
    "slope = lr.coef_[0]\n",
    "intercept = lr.intercept_\n",
    "slope, intercept"
   ]
  },
  {
   "cell_type": "code",
   "execution_count": 143,
   "metadata": {},
   "outputs": [
    {
     "data": {
      "text/plain": [
       "<matplotlib.legend.Legend at 0x7fdb5380c748>"
      ]
     },
     "execution_count": 143,
     "metadata": {},
     "output_type": "execute_result"
    },
    {
     "data": {
      "image/png": "[encoded data removed]",
      "text/plain": [
       "<Figure size 432x288 with 1 Axes>"
      ]
     },
     "metadata": {
      "needs_background": "light"
     },
     "output_type": "display_data"
    }
   ],
   "source": [
    "#option 1 regression line over scatter plot\n",
    "\n",
    "datag1 = data.copy()\n",
    "datag1 = datag1.drop([742])\n",
    "datag1 = datag1.drop([901])\n",
    "\n",
    "ax = plt.subplot()\n",
    "\n",
    "colors = {'Winter': 'cornflowerblue', 'Spring': 'springgreen', 'Summer':'red', 'Fall':'gold'}\n",
    "\n",
    "# Scatter data\n",
    "ax.scatter(x=datag1['Total Mgt. Expenses'], y=datag1['Sale Price'], color=datag1['Season'].map(colors), alpha=0.3)\n",
    "#ax.set_xlim(0, 2.002457e+06)\n",
    "ax.set_ylim(0, 160000)\n",
    "ax.set_xscale('log')\n",
    "\n",
    "# Plot regression line \n",
    "x0 = ax.get_xlim()[0]\n",
    "x1 = ax.get_xlim()[1]\n",
    "y0 = slope * x0 + intercept\n",
    "y1 = slope * x1 + intercept\n",
    "ax.plot((x0, x1), (y0, y1))\n",
    "\n",
    "# Format\n",
    "ax.set_title(\"Figure 1: Return on Property Investment\", pad=20)\n",
    "ax.set_xlabel('Management Expenses (USD)', fontsize=14)\n",
    "ax.set_ylabel('Sale Price (USD)', fontsize=14)\n",
    "ax.spines['right'].set_visible(False)\n",
    "ax.spines['top'].set_visible(False)\n",
    "\n",
    "# https://stackoverflow.com/questions/31303912/matplotlib-pyplot-scatterplot-legend-from-color-dictionary\n",
    "markers = [plt.Line2D([0,0],[0,0],color=color, marker='o', linestyle='') for color in colors.values()]\n",
    "plt.legend(markers, colors.keys(), numpoints=1, loc='upper left')"
   ]
  },
  {
   "cell_type": "code",
   "execution_count": 202,
   "metadata": {},
   "outputs": [
    {
     "data": {
      "text/plain": [
       "array([ 2.31441721e-14,  7.27477656e-05,  9.99927252e-01,  1.78220654e-02,\n",
       "        7.51390268e-02, -1.49137905e-01,  5.61768125e-02])"
      ]
     },
     "execution_count": 202,
     "metadata": {},
     "output_type": "execute_result"
    }
   ],
   "source": [
    "\n",
    "lr = LinearRegression()\n",
    "lr.fit(data3[['Total Mgt. Expenses', 'Days Owned', 'Residential', 'Winter', 'Summer', 'Spring', 'Fall']], data3['Sale Price'])\n",
    "\n",
    "lr.coef_/sum(lr.coef_)"
   ]
  },
  {
   "cell_type": "code",
   "execution_count": 204,
   "metadata": {},
   "outputs": [
    {
     "data": {
      "image/png": "[encoded data removed]",
      "text/plain": [
       "<Figure size 432x288 with 1 Axes>"
      ]
     },
     "metadata": {
      "needs_background": "light"
     },
     "output_type": "display_data"
    }
   ],
   "source": [
    "# coefficients\n",
    "names = ['Total Mgt. Expenses', 'Days Owned', 'Residential', 'Winter', 'Summer', 'Spring', 'Fall']\n",
    "vals = list(lr.coef_)\n",
    "\n",
    "ax = plt.subplot()\n",
    "\n",
    "# bar\n",
    "ax.barh(names, vals)\n",
    "\n",
    "# Format\n",
    "ax.set_title(\"Figure 3: Linear Regression Coefficients\", pad=20)\n",
    "ax.set_xlabel('Weight', fontsize=14)\n",
    "ax.set_ylabel('Feature', fontsize=14)\n",
    "ax.spines['right'].set_visible(False)\n",
    "ax.spines['top'].set_visible(False)"
   ]
  },
  {
   "cell_type": "markdown",
   "metadata": {},
   "source": [
    "# Train/Test model"
   ]
  },
  {
   "cell_type": "code",
   "execution_count": 256,
   "metadata": {},
   "outputs": [],
   "source": [
    "from sklearn.model_selection import train_test_split"
   ]
  },
  {
   "cell_type": "code",
   "execution_count": 300,
   "metadata": {},
   "outputs": [],
   "source": [
    "pipe = Pipeline([\n",
    "    ('scale', StandardScaler()),\n",
    "    ('lr', LinearRegression()),\n",
    "])"
   ]
  },
  {
   "cell_type": "code",
   "execution_count": 308,
   "metadata": {},
   "outputs": [
    {
     "data": {
      "text/plain": [
       "-135481648885.14038"
      ]
     },
     "execution_count": 308,
     "metadata": {},
     "output_type": "execute_result"
    }
   ],
   "source": [
    "train, test = train_test_split(data3, train_size=0.75) # training data is half of the data\n",
    "train.head()\n",
    "pipe.fit(train[['Total Mgt. Expenses', 'Days Owned', 'Residential', 'Winter', 'Summer', 'Spring', 'Fall']], train['Sale Price'])\n",
    "\n",
    "pipe.score(test[['Total Mgt. Expenses', 'Days Owned', 'Residential', 'Winter', 'Summer', 'Spring', 'Fall']], test['Sale Price'])"
   ]
  }
 ],
 "metadata": {
  "kernelspec": {
   "display_name": "Python 3",
   "language": "python",
   "name": "python3"
  },
  "language_info": {
   "codemirror_mode": {
    "name": "ipython",
    "version": 3
   },
   "file_extension": ".py",
   "mimetype": "text/x-python",
   "name": "python",
   "nbconvert_exporter": "python",
   "pygments_lexer": "ipython3",
   "version": "3.7.6 (tags/v3.7.6:43364a7ae0, Dec 18 2019, 23:46:00) [MSC v.1916 32 bit (Intel)]"
  },
  "vscode": {
   "interpreter": {
    "hash": "2789dc8127ea437abc6e1ae7d96f291c5edaa2b23af999a2ba188ca68afdf60d"
   }
  }
 },
 "nbformat": 4,
 "nbformat_minor": 4
}
